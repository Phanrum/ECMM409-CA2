{
 "cells": [
  {
   "cell_type": "code",
   "execution_count": 1,
   "metadata": {
    "collapsed": true
   },
   "outputs": [],
   "source": [
    "# import things\n",
    "from generate_cities_and_items_sanj import generate_cities_and_items"
   ]
  },
  {
   "cell_type": "code",
   "execution_count": 2,
   "outputs": [],
   "source": [
    "# load data"
   ],
   "metadata": {
    "collapsed": false
   }
  },
  {
   "cell_type": "code",
   "execution_count": 7,
   "outputs": [
    {
     "data": {
      "text/plain": "(array([111,  28,  76,  56, 280,  90,   4, 205,  13, 233, 250, 213,   9,\n        118, 175,  73,  95,  89, 179, 100,  63, 113,  99, 251,  10,  27,\n        207, 228, 164, 214,  85, 219, 225, 264, 217,  37,  42, 150, 106,\n        270,  34, 153, 220, 132, 271,  59, 248, 108,  16,  26, 129,  38,\n        170,  98, 189,  55,  40, 246, 238,  65,  25,  83, 127, 159, 123,\n         30,  53, 151,  93, 156,  23,  43, 180,  12, 117, 230, 200, 165,\n         67, 147, 276, 223, 139, 126, 203,  39, 229,  57,  46, 168, 190,\n        237,  20, 121, 154,  81,  60,  35, 145,  94, 215, 185,  31, 222,\n        128,  66, 263, 167, 221,  75, 115, 112, 199,  96,  61, 119,  69,\n        206,  87, 257, 101,   8, 239, 265, 266,  17,  15, 194, 235,  19,\n        177, 259, 181,  64, 236, 176,  14, 202, 208,  97,  36, 234, 188,\n        255, 279, 211, 254,  41, 125, 136, 245, 161, 260, 105, 253,  62,\n        209, 275,  91,   6, 196,  79,  70, 171,  18, 162,  52, 187, 269,\n         80, 201,  22, 131, 216, 155, 210,  24, 174, 232,   3, 149,  74,\n        252, 256, 278,  33, 142,  50, 191, 133, 104, 272, 109,  48, 137,\n        273,  21, 130, 163, 144,  92,  51,  77, 102, 186, 193,  72,  86,\n        166,  71,  58, 267, 277, 134, 195, 184, 218, 274, 212,  45, 152,\n        198, 204, 146, 262, 110,  78, 169, 148, 160, 182,  11, 268, 157,\n         88, 231, 124,  29,   2, 247, 140, 258, 242, 138, 135, 197, 107,\n         47, 244, 122,  32, 249, 114,  84, 227, 226, 173,  44, 172, 103,\n        158, 141, 243, 178, 183, 224, 241, 261, 240, 143, 116,  68,  54,\n          5, 192,   7, 120,  49,  82], dtype=int64),\n array([0, 0, 1, 1, 0, 0, 0, 0, 0, 0, 1, 0, 0, 0, 0, 0, 0, 1, 0, 0, 0, 0,\n        0, 0, 0, 0, 0, 0, 0, 1, 0, 0, 0, 0, 1, 1, 1, 0, 0, 1, 0, 0, 1, 0,\n        0, 0, 0, 1, 0, 0, 1, 0, 0, 1, 1, 1, 1, 0, 1, 0, 1, 0, 1, 1, 0, 0,\n        0, 0, 0, 0, 0, 0, 0, 1, 0, 1, 0, 0, 0, 0, 1, 1, 0, 1, 0, 0, 0, 0,\n        0, 0, 0, 0, 0, 0, 1, 1, 0, 1, 0, 0, 1, 0, 0, 0, 0, 1, 1, 0, 0, 0,\n        1, 0, 0, 1, 0, 0, 1, 1, 0, 0, 1, 0, 0, 0, 1, 0, 0, 0, 0, 0, 0, 0,\n        0, 1, 0, 0, 0, 0, 1, 0, 0, 0, 0, 0, 0, 0, 0, 0, 0, 0, 0, 0, 0, 1,\n        0, 0, 1, 1, 0, 0, 0, 0, 0, 1, 0, 0, 0, 0, 0, 0, 0, 1, 0, 1, 0, 0,\n        0, 0, 0, 0, 0, 0, 1, 0, 0, 0, 0, 0, 0, 1, 0, 0, 1, 0, 0, 0, 1, 1,\n        0, 0, 0, 0, 1, 0, 0, 0, 0, 1, 0, 1, 0, 0, 0, 1, 0, 1, 0, 0, 0, 0,\n        1, 1, 0, 0, 0, 1, 0, 0, 1, 0, 0, 0, 0, 0, 0, 0, 0, 1, 0, 1, 0, 0,\n        0, 0, 0, 0, 1, 0, 0, 1, 1, 0, 0, 0, 0, 0, 0, 1, 0, 1, 0, 0, 0, 1,\n        0, 0, 0, 0, 0, 0, 0, 0, 0, 0, 0, 1, 0, 0]))"
     },
     "execution_count": 7,
     "metadata": {},
     "output_type": "execute_result"
    }
   ],
   "source": [
    "# generate a bunch of solutions\n",
    "    # determine an array of cities to visit (random permutation)\n",
    "    # determine which items you're going to take, making sure you're not over the weight limit\n",
    "file = r'data\\a280-n279.txt'\n",
    "generate_cities_and_items(70000, file)"
   ],
   "metadata": {
    "collapsed": false
   }
  },
  {
   "cell_type": "code",
   "execution_count": 4,
   "outputs": [],
   "source": [
    "# evaluate each solution\n",
    "    # for each solution, go city by city\n",
    "        # for each pair of cities\n",
    "        # find the added weight (so calculate current weight of backpack)\n",
    "        # find the new velocity\n",
    "        # calculate the time it takes to move between the two cities\n",
    "        # make note of the profit\n",
    "    # add up the times from each pair\n",
    "\n",
    "    # the output of each evaluation should be [route, items taken], [time, cost]"
   ],
   "metadata": {
    "collapsed": false
   }
  },
  {
   "cell_type": "code",
   "execution_count": 5,
   "outputs": [],
   "source": [
    "# plot solutions in the objective space (coordinates are time and cost)"
   ],
   "metadata": {
    "collapsed": false
   }
  },
  {
   "cell_type": "code",
   "execution_count": 6,
   "outputs": [],
   "source": [
    "# identify solutions which lie on the pareto front\n",
    "    # use code from fundamentals\n",
    "    # but peel off layers (ranks) like in the slides from lecture 13\n",
    "    # as we peel them and store them in ranks, do we then make sure they're not clustered?\n",
    "\n"
   ],
   "metadata": {
    "collapsed": false
   }
  },
  {
   "cell_type": "code",
   "execution_count": 7,
   "outputs": [],
   "source": [
    "# crossover and mutate (hardest bit??)"
   ],
   "metadata": {
    "collapsed": false
   }
  },
  {
   "cell_type": "code",
   "execution_count": 8,
   "outputs": [],
   "source": [
    "# to generate a new population, use something like NSGA-II (see slides for lecture 13)"
   ],
   "metadata": {
    "collapsed": false
   }
  },
  {
   "cell_type": "code",
   "execution_count": null,
   "outputs": [],
   "source": [
    "# repeat"
   ],
   "metadata": {
    "collapsed": false
   }
  }
 ],
 "metadata": {
  "kernelspec": {
   "display_name": "Python 3",
   "language": "python",
   "name": "python3"
  },
  "language_info": {
   "codemirror_mode": {
    "name": "ipython",
    "version": 2
   },
   "file_extension": ".py",
   "mimetype": "text/x-python",
   "name": "python",
   "nbconvert_exporter": "python",
   "pygments_lexer": "ipython2",
   "version": "2.7.6"
  }
 },
 "nbformat": 4,
 "nbformat_minor": 0
}
