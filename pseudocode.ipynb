{
 "cells": [
  {
   "cell_type": "code",
   "execution_count": 1,
   "metadata": {
    "collapsed": true
   },
   "outputs": [],
   "source": [
    "# import things"
   ]
  },
  {
   "cell_type": "code",
   "execution_count": 2,
   "outputs": [],
   "source": [
    "# load data"
   ],
   "metadata": {
    "collapsed": false
   }
  },
  {
   "cell_type": "code",
   "execution_count": 3,
   "outputs": [],
   "source": [
    "# generate a bunch of solutions\n",
    "    # determine an array of cities to visit (random permutation)\n",
    "    # determine which items you're going to take, making sure you're not over the weight limit"
   ],
   "metadata": {
    "collapsed": false
   }
  },
  {
   "cell_type": "code",
   "execution_count": 4,
   "outputs": [],
   "source": [
    "# evaluate each solution\n",
    "    # for each solution, go city by city\n",
    "        # for each pair of cities\n",
    "        # find the added weight (so calculate current weight of backpack)\n",
    "        # find the new velocity\n",
    "        # calculate the time it takes to move between the two cities\n",
    "        # make note of the profit\n",
    "    # add up the times from each pair\n",
    "\n",
    "    # the output of each evaluation should be [route, items taken], [time, cost]"
   ],
   "metadata": {
    "collapsed": false
   }
  },
  {
   "cell_type": "code",
   "execution_count": 5,
   "outputs": [],
   "source": [
    "# plot solutions in the objective space (coordinates are time and cost)"
   ],
   "metadata": {
    "collapsed": false
   }
  },
  {
   "cell_type": "code",
   "execution_count": 6,
   "outputs": [],
   "source": [
    "# identify solutions which lie on the pareto front\n",
    "    # use code from fundamentals\n",
    "    # but peel off layers (ranks) like in the slides from lecture 13\n",
    "    # as we peel them and store them in ranks, do we then make sure they're not clustered?\n",
    "\n"
   ],
   "metadata": {
    "collapsed": false
   }
  },
  {
   "cell_type": "code",
   "execution_count": 7,
   "outputs": [],
   "source": [
    "# crossover and mutate (hardest bit??)"
   ],
   "metadata": {
    "collapsed": false
   }
  },
  {
   "cell_type": "code",
   "execution_count": 8,
   "outputs": [],
   "source": [
    "# to generate a new population, use something like NSGA-II (see slides for lecture 13)"
   ],
   "metadata": {
    "collapsed": false
   }
  },
  {
   "cell_type": "code",
   "execution_count": null,
   "outputs": [],
   "source": [
    "# repeat"
   ],
   "metadata": {
    "collapsed": false
   }
  }
 ],
 "metadata": {
  "kernelspec": {
   "display_name": "Python 3",
   "language": "python",
   "name": "python3"
  },
  "language_info": {
   "codemirror_mode": {
    "name": "ipython",
    "version": 2
   },
   "file_extension": ".py",
   "mimetype": "text/x-python",
   "name": "python",
   "nbconvert_exporter": "python",
   "pygments_lexer": "ipython2",
   "version": "2.7.6"
  }
 },
 "nbformat": 4,
 "nbformat_minor": 0
}
