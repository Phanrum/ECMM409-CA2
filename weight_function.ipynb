{
 "cells": [
  {
   "cell_type": "code",
   "execution_count": null,
   "id": "dfd80c17",
   "metadata": {},
   "outputs": [],
   "source": [
    "def calculate_knapsack_weight_at_city(city_index, tour, items, decision_vector):\n",
    "    \"\"\"\n",
    "    Calculate the weight of the knapsack at a given city during the thief's tour.\n",
    "\n",
    "    Parameters:\n",
    "    - city_index: The index of the current city in the tour.\n",
    "    - tour: A list representing the order in which cities are visited (permutation vector).\n",
    "    - items: A list of tuples, each representing an item and containing its availability at each city (binary)\n",
    "             and its weight (e.g., [(availability, weight), ...]).\n",
    "    - decision_vector: A binary list indicating whether each item is picked (1) or not (0).\n",
    "\n",
    "    Returns:\n",
    "    - The total weight of the knapsack at the given city.\n",
    "    \"\"\"\n",
    "    total_weight = 0\n",
    "\n",
    "    # Sum the weight of all items picked so far\n",
    "    for k in range(city_index + 1):  # Include the current city in the sum\n",
    "        city = tour[k]\n",
    "        for j, (availability, weight) in enumerate(items):\n",
    "            # If the item is available at the current city and is picked, add its weight\n",
    "            if availability[city] == 1 and decision_vector[j] == 1:\n",
    "                total_weight += weight\n",
    "\n",
    "    return total_weight\n"
   ]
  },
  {
   "cell_type": "markdown",
   "id": "c5d436eb",
   "metadata": {},
   "source": []
  }
 ],
 "metadata": {
  "kernelspec": {
   "display_name": "Python 3 (ipykernel)",
   "language": "python",
   "name": "python3"
  },
  "language_info": {
   "codemirror_mode": {
    "name": "ipython",
    "version": 3
   },
   "file_extension": ".py",
   "mimetype": "text/x-python",
   "name": "python",
   "nbconvert_exporter": "python",
   "pygments_lexer": "ipython3",
   "version": "3.11.4"
  }
 },
 "nbformat": 4,
 "nbformat_minor": 5
}
